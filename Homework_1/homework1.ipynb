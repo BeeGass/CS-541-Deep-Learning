{
 "metadata": {
  "language_info": {
   "codemirror_mode": {
    "name": "ipython",
    "version": 3
   },
   "file_extension": ".py",
   "mimetype": "text/x-python",
   "name": "python",
   "nbconvert_exporter": "python",
   "pygments_lexer": "ipython3",
   "version": "3.8.7-final"
  },
  "orig_nbformat": 2,
  "kernelspec": {
   "name": "python3",
   "display_name": "Python 3.8.7 64-bit",
   "metadata": {
    "interpreter": {
     "hash": "552348fb7d79730493b979f7356e711fcc27c318fa52baca99fd131d34174f89"
    }
   }
  }
 },
 "nbformat": 4,
 "nbformat_minor": 2,
 "cells": [
  {
   "cell_type": "code",
   "execution_count": 36,
   "metadata": {},
   "outputs": [],
   "source": [
    "import numpy as np\n",
    "A = np.array([[\n",
    "    [5, 2, 1],\n",
    "    [6, 8, 0],\n",
    "    [2, 5, 8],\n",
    "    ]])\n",
    "B = np.array([[\n",
    "    [5, 3, 2],\n",
    "    [7, 9, 1],\n",
    "    [3, 6, 9],\n",
    "    ]])\n",
    "C = np.array([[\n",
    "    [6, 3, 2],\n",
    "    [8, 0, 2],\n",
    "    [4, 7, 0],\n",
    "    ]])"
   ]
  },
  {
   "cell_type": "code",
   "execution_count": 37,
   "metadata": {},
   "outputs": [
    {
     "output_type": "stream",
     "name": "stdout",
     "text": [
      "[[[10  5  3]\n  [13 17  1]\n  [ 5 11 17]]]\n"
     ]
    }
   ],
   "source": [
    "def problem_1a (A, B):\n",
    "    return A + B\n",
    "\n",
    "print(problem_1a(A, B))"
   ]
  },
  {
   "cell_type": "code",
   "execution_count": 38,
   "metadata": {},
   "outputs": [
    {
     "output_type": "stream",
     "name": "stdout",
     "text": [
      "[[[[36 36 19]\n   [34 39 19]\n   [38 32 21]]\n\n  [[80 87 18]\n   [78 90 18]\n   [82 83 20]]\n\n  [[63 96 79]\n   [61 99 79]\n   [65 92 81]]]]\n"
     ]
    }
   ],
   "source": [
    "def problem_1b (A, B, C):\n",
    "    return (np.dot(A, B)) - C\n",
    "\n",
    "print(problem_1b(A, B, C))"
   ]
  },
  {
   "cell_type": "code",
   "execution_count": 39,
   "metadata": {},
   "outputs": [
    {
     "output_type": "stream",
     "name": "stdout",
     "text": [
      "[[[31 12  8]\n  [50 80  8]\n  [10 34 76]]\n\n [[28  9  5]\n  [42 72  0]\n  [13 37 79]]\n\n [[27  8  4]\n  [44 74  2]\n  [ 6 30 72]]]\n"
     ]
    }
   ],
   "source": [
    "def problem_1c (A, B, C):\n",
    "    return (A * B) + (np.transpose(C))\n",
    "\n",
    "print(problem_1c(A, B, C))"
   ]
  },
  {
   "cell_type": "code",
   "execution_count": null,
   "metadata": {},
   "outputs": [],
   "source": [
    "def problem_1d (x, y):\n",
    "    return np.dot(np.transpose(x), y)"
   ]
  },
  {
   "cell_type": "code",
   "execution_count": null,
   "metadata": {},
   "outputs": [],
   "source": [
    "def problem_1e (A):\n",
    "    return np.zeros(np.shape(A))"
   ]
  },
  {
   "cell_type": "code",
   "execution_count": null,
   "metadata": {},
   "outputs": [],
   "source": [
    "def problem_1f (A, x):\n",
    "    return np.linalg.solve(A, x)"
   ]
  },
  {
   "cell_type": "code",
   "execution_count": null,
   "metadata": {},
   "outputs": [],
   "source": [
    "def problem_1g (A, x):\n",
    "    return np.linalg.solve(A.T, x.T)"
   ]
  },
  {
   "cell_type": "code",
   "execution_count": null,
   "metadata": {},
   "outputs": [],
   "source": [
    "def problem_1h (A, alpha):\n",
    "    num_rows, num_cols = A.shape\n",
    "    return A + (np.eye(num_rows) * alpha)"
   ]
  },
  {
   "cell_type": "code",
   "execution_count": null,
   "metadata": {},
   "outputs": [],
   "source": [
    "def problem_1i (A, i):\n",
    "    return np.sum(A[i, 1::2])"
   ]
  },
  {
   "cell_type": "code",
   "execution_count": 3,
   "metadata": {},
   "outputs": [],
   "source": [
    "def problem_1j (A, c, d):\n",
    "    b = np.where((c <= A and A <= d))\n",
    "    return np.mean(A[b])"
   ]
  },
  {
   "cell_type": "code",
   "execution_count": null,
   "metadata": {},
   "outputs": [],
   "source": [
    "def problem_1k (A, k):\n",
    "    eigen_value, eigen_vector = np.linalg.eig(A) #get eigenvalues and vectors\n",
    "    descen_arr_indices = eigen_value[::-1].argsort() #sort indices in descending order\n",
    "    return eigen_vector[:,descen_arr_indices[:,:k]] #use indices to get respective eigen vectors "
   ]
  },
  {
   "cell_type": "code",
   "execution_count": null,
   "metadata": {},
   "outputs": [],
   "source": [
    "x = \n",
    "k = \n",
    "m = \n",
    "s = \n",
    "print(\"This is array A\", A)\n",
    "print(\"This is array B\", B)\n",
    "print(\"This is array B\", C)\n",
    "\n",
    "def problem_1l (x, k, m, s):\n",
    "    x_row, x_col  = x.shape()\n",
    "    m_z =  m * np.ones(x.shape)\n",
    "    s_i = s * np.eye(x_row, k)\n",
    "    n_k = np.random.multivariatenormal(x + m_z, s_i)\n",
    "    return n_k"
   ]
  },
  {
   "cell_type": "code",
   "execution_count": null,
   "metadata": {},
   "outputs": [],
   "source": [
    "def problem_1m (A):\n",
    "    return np.random.permutation(A)"
   ]
  },
  {
   "cell_type": "code",
   "execution_count": null,
   "metadata": {},
   "outputs": [],
   "source": [
    "def problem_1n (x):\n",
    "    x_bar = np.mean(x)\n",
    "    sigma = np.std(x)\n",
    "    y_vec = []\n",
    "    for i in range(len(x)):\n",
    "        x_i = x[i]\n",
    "        y_i =  (x_i - x_bar) / sigma \n",
    "        y_vec.append(y_i)\n",
    "\n",
    "    return y_vec"
   ]
  },
  {
   "cell_type": "code",
   "execution_count": null,
   "metadata": {},
   "outputs": [],
   "source": [
    "def problem_1o (x, k):\n",
    "    return np.repeat(np.atleast_2d(x),k)"
   ]
  },
  {
   "cell_type": "code",
   "execution_count": null,
   "metadata": {},
   "outputs": [],
   "source": [
    "def problem_1p (X):\n",
    "    return "
   ]
  },
  {
   "cell_type": "code",
   "execution_count": null,
   "metadata": {},
   "outputs": [],
   "source": [
    "def linear_regression (X_tr, y_tr):\n",
    "    # set random value for w\n",
    "    # x is set to pixel value\n",
    "    #y is set age of the person in picture\n",
    "    #n is total number of pictures\n",
    "    #w a scalar that has 1:1 relationship with number of pixels \n",
    "\n",
    "    #transpose x\n",
    "    #multiply X to w\n",
    "    #subtract y value from y_hat\n",
    "    #update w\n",
    "    #repeat until training set is complete \n",
    "\n",
    "    #use aquired w matrix to then test values on test set and determine accuracy \n",
    "    #use aquired w matrix to then test values on the training set (can be thought of as test set part 2)\n",
    "    return w"
   ]
  },
  {
   "cell_type": "code",
   "execution_count": null,
   "metadata": {},
   "outputs": [],
   "source": [
    "def train_age_regressor():\n",
    "    # Load data\n",
    "    X_tr = np.reshape(np.load(\"age_regression_Xtr.npy\"), (-1, 48*48))\n",
    "    ytr = np.load(\"age_regression_ytr.npy\")\n",
    "    X_te = np.reshape(np.load(\"age_regression_Xte.npy\"), (-1, 48*48))\n",
    "    yte = np.load(\"age_regression_yte.npy\")\n",
    "\n",
    "    w = linear_regression(X_tr, ytr)\n",
    "\n",
    "    # Report fMSE cost on the training and testing data (separately)\n",
    "    # ..."
   ]
  }
 ]
}