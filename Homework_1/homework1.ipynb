{
 "metadata": {
  "language_info": {
   "codemirror_mode": {
    "name": "ipython",
    "version": 3
   },
   "file_extension": ".py",
   "mimetype": "text/x-python",
   "name": "python",
   "nbconvert_exporter": "python",
   "pygments_lexer": "ipython3",
   "version": "3.8.7-final"
  },
  "orig_nbformat": 2,
  "kernelspec": {
   "name": "python3",
   "display_name": "Python 3.8.7 64-bit",
   "metadata": {
    "interpreter": {
     "hash": "552348fb7d79730493b979f7356e711fcc27c318fa52baca99fd131d34174f89"
    }
   }
  }
 },
 "nbformat": 4,
 "nbformat_minor": 2,
 "cells": [
  {
   "cell_type": "code",
   "execution_count": 1,
   "metadata": {},
   "outputs": [],
   "source": [
    "import numpy as np\n",
    "A_var = np.array([\n",
    "    [5, 2, 1],\n",
    "    [6, 8, 0],\n",
    "    [2, 5, 8]\n",
    "    ])\n",
    "B_var = np.array([\n",
    "    [5, 3, 2],\n",
    "    [7, 9, 1],\n",
    "    [3, 6, 9]\n",
    "    ])\n",
    "C_var = np.array([\n",
    "    [6, 3, 2],\n",
    "    [8, 0, 2],\n",
    "    [4, 7, 0]\n",
    "    ])\n",
    "\n",
    "\n",
    "x = np.array([5, 2, 1, 6, 8])\n",
    "\n",
    "x_1 = np.array([[5, 2, 1], \n",
    "                [6, 8, 8]])\n",
    "\n",
    "x_2 = np.array([[5, 2, 1], \n",
    "                [6, 8, 8]])\n",
    "\n",
    "x_3 = np.array([5, 2, 1])\n",
    "\n",
    "y = np.array([5, 3, 2, 7, 9])\n",
    "\n",
    "y_1 = np.array([[5, 3, 2], \n",
    "                [7, 9, 4]])\n",
    "\n",
    "y_2 = np.array([[5, 3, 2], \n",
    "                [7, 9, 4]])\n",
    "\n",
    "matrix = np.array([\n",
    "    [1, 2, 0],\n",
    "    [2, 2, 0],\n",
    "    [3, 2, 0],\n",
    "    [4, 2, 0]\n",
    "    ])\n",
    "\n",
    "matrix_two = np.array([\n",
    "    [4, 3, 2, 1],\n",
    "    [2, 2, 2, 2],\n",
    "    [0, 0, 0, 0]\n",
    "    ])"
   ]
  },
  {
   "cell_type": "code",
   "execution_count": 2,
   "metadata": {},
   "outputs": [
    {
     "output_type": "stream",
     "name": "stdout",
     "text": [
      "[[10  5  3]\n [13 17  1]\n [ 5 11 17]]\n"
     ]
    }
   ],
   "source": [
    "#correct\n",
    "def problem_1a (A, B):\n",
    "    return A + B\n",
    "\n",
    "a = problem_1a(A_var, B_var)\n",
    "print(problem_1a(A_var, B_var))"
   ]
  },
  {
   "cell_type": "code",
   "execution_count": 3,
   "metadata": {},
   "outputs": [
    {
     "output_type": "stream",
     "name": "stdout",
     "text": [
      "[[36 36 19]\n [78 90 18]\n [65 92 81]]\n"
     ]
    }
   ],
   "source": [
    "#correct\n",
    "def problem_1b (A, B, C):\n",
    "    return (np.dot(A, B) - C)\n",
    "\n",
    "print(problem_1b(A_var, B_var, C_var))"
   ]
  },
  {
   "cell_type": "code",
   "execution_count": 4,
   "metadata": {},
   "outputs": [
    {
     "output_type": "stream",
     "name": "stdout",
     "text": [
      "[[31 14  6]\n [45 72  7]\n [ 8 32 72]]\n"
     ]
    }
   ],
   "source": [
    "#correct\n",
    "def problem_1c (A, B, C):\n",
    "    return ((A * B) + C.T)\n",
    "\n",
    "print(problem_1c(A_var, B_var, C_var))"
   ]
  },
  {
   "cell_type": "code",
   "execution_count": 5,
   "metadata": {},
   "outputs": [
    {
     "output_type": "stream",
     "name": "stdout",
     "text": [
      "[[ 33  57]\n",
      " [ 70 146]]\n"
     ]
    }
   ],
   "source": [
    "#not correct I think\n",
    "def problem_1d (x, y):\n",
    "    return np.inner(x, y)\n",
    "\n",
    "print(problem_1d(x_1, y_1))"
   ]
  },
  {
   "cell_type": "code",
   "execution_count": 6,
   "metadata": {},
   "outputs": [
    {
     "output_type": "stream",
     "name": "stdout",
     "text": [
      "[[0. 0. 0.]\n [0. 0. 0.]\n [0. 0. 0.]]\n"
     ]
    }
   ],
   "source": [
    "#correct\n",
    "def problem_1e (A):\n",
    "    return np.zeros(np.shape(A_var))\n",
    "\n",
    "print(problem_1e(A_var))"
   ]
  },
  {
   "cell_type": "code",
   "execution_count": 7,
   "metadata": {},
   "outputs": [
    {
     "output_type": "stream",
     "name": "stdout",
     "text": [
      "problem 1f \n [ 1.21848739 -0.66386555  0.23529412]\nMission Failed, You'll Get Em Next Time\n"
     ]
    }
   ],
   "source": [
    "#not correct\n",
    "def problem_1f (A, x):\n",
    "    return np.linalg.solve(A, x)\n",
    "\n",
    "def test_1f(A, x, b):\n",
    "    pass_bool = np.allclose(np.dot(A, x), b)\n",
    "    if pass_bool == True:\n",
    "        print(\"Test passed\")\n",
    "    else:\n",
    "        print(\"Mission Failed, You'll Get Em Next Time\")\n",
    "\n",
    "b = problem_1f(A_var, x_3)\n",
    "print(\"problem 1f \\n\", b)\n",
    "test_1f(A_var, x_3, b)"
   ]
  },
  {
   "cell_type": "code",
   "execution_count": 8,
   "metadata": {},
   "outputs": [
    {
     "output_type": "stream",
     "name": "stdout",
     "text": [
      "problem 1f \n [ 1.21848739 -0.66386555  0.23529412]\nMission Failed, You'll Get Em Next Time\n"
     ]
    }
   ],
   "source": [
    "#not correct\n",
    "def problem_1g (A, x):\n",
    "    return (np.linalg.solve(A.T, x.T)).T\n",
    "\n",
    "def test_1g(A, x, b_2):\n",
    "    pass_bool = np.allclose(np.dot(A, x), b_2)\n",
    "    if pass_bool == True:\n",
    "        print(\"Test passed\")\n",
    "    else:\n",
    "        print(\"Mission Failed, You'll Get Em Next Time\")\n",
    "\n",
    "b_2 = problem_1f(A_var, x_3)\n",
    "print(\"problem 1f \\n\", b_2)\n",
    "test_1f(A_var, x_3, b_2)"
   ]
  },
  {
   "cell_type": "code",
   "execution_count": 9,
   "metadata": {},
   "outputs": [
    {
     "output_type": "stream",
     "name": "stdout",
     "text": [
      "This is A \n [[5 2 1]\n [6 8 0]\n [2 5 8]]\n\nThis is I \n [[1. 0. 0.]\n [0. 1. 0.]\n [0. 0. 1.]]\n\nThe answer for 1h \n [[10.  2.  1.]\n [ 6. 13.  0.]\n [ 2.  5. 13.]]\n"
     ]
    }
   ],
   "source": [
    "#correct\n",
    "def problem_1h (A, alpha):\n",
    "    num_rows, num_cols = A.shape\n",
    "    print(\"This is A \\n\", A)\n",
    "    print(\"\\nThis is I \\n\", np.eye(num_rows))\n",
    "    return A + (np.eye(num_rows) * alpha)\n",
    "\n",
    "print(\"\\nThe answer for 1h \\n\", problem_1h(A_var, 5))"
   ]
  },
  {
   "cell_type": "code",
   "execution_count": 10,
   "metadata": {},
   "outputs": [
    {
     "output_type": "stream",
     "name": "stdout",
     "text": [
      "10\n"
     ]
    }
   ],
   "source": [
    "#correct\n",
    "def problem_1i (A, i):\n",
    "    return np.sum(A[i, ::2])\n",
    "\n",
    "print(problem_1i(A_var, 2))"
   ]
  },
  {
   "cell_type": "code",
   "execution_count": 11,
   "metadata": {},
   "outputs": [
    {
     "output_type": "stream",
     "name": "stdout",
     "text": [
      "4.0\n"
     ]
    }
   ],
   "source": [
    "#correct\n",
    "def problem_1j (A, c, d):\n",
    "    b = np.where(np.logical_and(c <= A, A <= d))\n",
    "    return np.mean(A[b])\n",
    "\n",
    "print(problem_1j (A_var, 2, 6)) "
   ]
  },
  {
   "cell_type": "code",
   "execution_count": 20,
   "metadata": {},
   "outputs": [
    {
     "output_type": "stream",
     "name": "stdout",
     "text": [
      "[11.48565082  3.37543563  6.13891355]\n[2 0]\n[[ 0.12042721  0.27500502]\n [-0.3882481   0.47337791]\n [ 0.91365239  0.83683069]]\n"
     ]
    }
   ],
   "source": [
    "#correct\n",
    "def problem_1k (A, k):\n",
    "    eigen_value, eigen_vector = np.linalg.eig(A) #get eigenvalues and vectors\n",
    "    descen_arr_indices = eigen_value.argsort() #sort indices in descending order\n",
    "    matching_indices = descen_arr_indices[len(descen_arr_indices) - k:]\n",
    "    return eigen_vector[:,matching_indices] #use indices to get respective eigen vectors \n",
    "\n",
    "print(problem_1k(A_var, 2)) "
   ]
  },
  {
   "cell_type": "code",
   "execution_count": null,
   "metadata": {},
   "outputs": [],
   "source": [
    "def problem_1l (x, k, m, s):\n",
    "    return np.random.multivariatenormal(x+m, np.eye(x.shape[0]) * s, k).T\n",
    "\n",
    "#x_row, x_col  = x.shape()\n",
    "#m_z =  m * np.ones(x.shape)\n",
    "#s_i = s * np.eye(x_row, k)\n",
    "#n_k = np.random.multivariatenormal(x + m_z, s_i)\n",
    "#return n_k"
   ]
  },
  {
   "cell_type": "code",
   "execution_count": null,
   "metadata": {},
   "outputs": [],
   "source": [
    "def problem_1m (A):\n",
    "    return np.random.permutation(A)"
   ]
  },
  {
   "cell_type": "code",
   "execution_count": null,
   "metadata": {},
   "outputs": [],
   "source": [
    "def problem_1n (x):\n",
    "    x_bar = np.mean(x)\n",
    "    sigma = np.std(x)\n",
    "    y_vec = []\n",
    "    for i in range(len(x)):\n",
    "        x_i = x[i]\n",
    "        y_i =  (x_i - x_bar) / sigma \n",
    "        y_vec.append(y_i)\n",
    "\n",
    "    return y_vec"
   ]
  },
  {
   "cell_type": "code",
   "execution_count": null,
   "metadata": {},
   "outputs": [],
   "source": [
    "def problem_1o (x, k):\n",
    "    return np.repeat(np.atleast_2d(x),k)"
   ]
  },
  {
   "cell_type": "code",
   "execution_count": 27,
   "metadata": {},
   "outputs": [
    {
     "output_type": "stream",
     "name": "stdout",
     "text": [
      "[[0.         2.44948974 5.47722558]\n [2.44948974 0.         4.        ]\n [5.47722558 4.         0.        ]]\n"
     ]
    }
   ],
   "source": [
    "#correct\n",
    "def problem_1p (X):\n",
    "    m, n = np.shape(X)\n",
    "    three_dim_mat = np.repeat(np.atleast_3d(X), n, axis=2)\n",
    "    swap_mat = np.swapaxes(three_dim_mat, 1, 2)\n",
    "    D = np.sqrt(np.sum(np.square(three_dim_mat-swap_mat), axis=0))\n",
    "    return D\n",
    "\n",
    "print(problem_1p(matrix))"
   ]
  },
  {
   "cell_type": "code",
   "execution_count": null,
   "metadata": {},
   "outputs": [],
   "source": [
    "def linear_regression (X_tr, y_tr):\n",
    "    X_t = X_tr.T\n",
    "    X_y = np.matmul(X_tr.T, y_tr)\n",
    "    X_XT = np.matmul(X_t, X_tr)\n",
    "    return np.linalg.solve(X_XT, X_y)"
   ]
  },
  {
   "cell_type": "code",
   "execution_count": null,
   "metadata": {},
   "outputs": [],
   "source": [
    "def mean_square_error(y_hat, y):\n",
    "    dist_diff = np.square(y_hat-y)\n",
    "    err = np.mean(dist_diff)\n",
    "    return err"
   ]
  },
  {
   "cell_type": "code",
   "execution_count": null,
   "metadata": {},
   "outputs": [],
   "source": [
    "def train_age_regressor():\n",
    "    # Load data\n",
    "    X_tr = np.reshape(np.load(\"age_regression_Xtr.npy\"), (-1, 48*48))\n",
    "    ytr = np.load(\"age_regression_ytr.npy\")\n",
    "    X_te = np.reshape(np.load(\"age_regression_Xte.npy\"), (-1, 48*48))\n",
    "    yte = np.load(\"age_regression_yte.npy\")\n",
    "\n",
    "    w = linear_regression(X_tr, ytr)\n",
    "    y_hat_tr = np.matmul(X_tr, w)\n",
    "    y_hat_te = np.matmul(X_te, w)\n",
    "\n",
    "    train = mean_square_error(y_hat_tr, ytr)\n",
    "    test = mean_square_error(y_hat_te, yte)\n",
    "\n",
    "    return train, test\n",
    "\n",
    "\n",
    "    # Report fMSE cost on the training and testing data (separately)\n",
    "    # ..."
   ]
  },
  {
   "cell_type": "code",
   "execution_count": null,
   "metadata": {},
   "outputs": [],
   "source": [
    "print(train_age_regressor())"
   ]
  }
 ]
}