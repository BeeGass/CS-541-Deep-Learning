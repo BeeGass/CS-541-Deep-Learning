{
 "metadata": {
  "language_info": {
   "codemirror_mode": {
    "name": "ipython",
    "version": 3
   },
   "file_extension": ".py",
   "mimetype": "text/x-python",
   "name": "python",
   "nbconvert_exporter": "python",
   "pygments_lexer": "ipython3",
   "version": "3.8.6"
  },
  "orig_nbformat": 2,
  "kernelspec": {
   "name": "python3",
   "display_name": "Python 3.8.6 64-bit ('myPython': virtualenvwrapper)"
  },
  "interpreter": {
   "hash": "84049df9d252f94b499f04453d7bdf722827497bdc8868f15691bf5480d3fb8d"
  }
 },
 "nbformat": 4,
 "nbformat_minor": 2,
 "cells": [
  {
   "cell_type": "code",
   "execution_count": 1,
   "metadata": {},
   "outputs": [],
   "source": [
    "import numpy as np\n",
    "# remember:\n",
    "# a[start:stop:step]\n",
    "# a[row,col : row,col] ex. a[,2:] start from 3rd col"
   ]
  },
  {
   "cell_type": "code",
   "execution_count": 2,
   "metadata": {},
   "outputs": [
    {
     "output_type": "stream",
     "name": "stdout",
     "text": [
      "[ 3  6  9 12]\n"
     ]
    }
   ],
   "source": [
    "A = np.array([1, 2, 3, 4])\n",
    "B = np.array([2, 4, 6, 8])\n",
    "def problem_1a (A, B):\n",
    "    return A + B\n",
    "\n",
    "print(problem_1a(A, B))"
   ]
  },
  {
   "cell_type": "code",
   "execution_count": 3,
   "metadata": {},
   "outputs": [
    {
     "output_type": "stream",
     "name": "stdout",
     "text": [
      "[[26 37 48]\n [52 74 96]\n [38 55 72]]\n"
     ]
    }
   ],
   "source": [
    "A = np.array(\n",
    "    [[1, 2, 3],\n",
    "    [2, 4, 6],\n",
    "    [1, 3, 5]]\n",
    "    )\n",
    "B = np.array(\n",
    "    [[4, 5, 6],\n",
    "    [4, 6, 8],\n",
    "    [5, 7, 9]]\n",
    "    )\n",
    "C = np.array(\n",
    "    [[1, 1, 1],\n",
    "    [2, 2, 2],\n",
    "    [3, 3, 3]]\n",
    "    )\n",
    "def problem_1b (A, B, C):\n",
    "    #matrix multiplication\n",
    "    return ((A@B) - C)\n",
    "\n",
    "print(problem_1b(A, B, C))"
   ]
  },
  {
   "cell_type": "code",
   "execution_count": 4,
   "metadata": {},
   "outputs": [
    {
     "output_type": "stream",
     "name": "stdout",
     "text": [
      "[[ 5 12 21]\n [ 9 26 51]\n [ 6 23 48]]\n"
     ]
    }
   ],
   "source": [
    "A = np.array(\n",
    "    [[1, 2, 3],\n",
    "    [2, 4, 6],\n",
    "    [1, 3, 5]]\n",
    "    )\n",
    "B = np.array(\n",
    "    [[4, 5, 6],\n",
    "    [4, 6, 8],\n",
    "    [5, 7, 9]]\n",
    "    )\n",
    "C = np.array(\n",
    "    [[1, 1, 1],\n",
    "    [2, 2, 2],\n",
    "    [3, 3, 3]]\n",
    "    )\n",
    "def problem_1c (A, B, C):\n",
    "    #element-wise multiplication\n",
    "    return ((A * B) + C.T)\n",
    "\n",
    "print(problem_1c(A, B, C))"
   ]
  },
  {
   "cell_type": "code",
   "execution_count": 5,
   "metadata": {},
   "outputs": [
    {
     "output_type": "stream",
     "name": "stdout",
     "text": [
      "[[60]]\n"
     ]
    }
   ],
   "source": [
    "x = np.array([[1, 2, 3, 4]])\n",
    "y = np.array([[2, 4, 6, 8]])\n",
    "def problem_1d (x, y):\n",
    "    #inner product\n",
    "    return np.inner(x, y)\n",
    "\n",
    "print(problem_1d(x, y))"
   ]
  },
  {
   "cell_type": "code",
   "execution_count": 6,
   "metadata": {},
   "outputs": [
    {
     "output_type": "stream",
     "name": "stdout",
     "text": [
      "[[0. 0. 0.]\n [0. 0. 0.]\n [0. 0. 0.]]\n"
     ]
    }
   ],
   "source": [
    "A = np.array(\n",
    "    [[1, 2, 3],\n",
    "    [2, 4, 6],\n",
    "    [1, 3, 5]]\n",
    "    )\n",
    "def problem_1e (A):\n",
    "    return np.zeros(np.shape(A))\n",
    "\n",
    "print(problem_1e(A))"
   ]
  },
  {
   "cell_type": "code",
   "execution_count": 7,
   "metadata": {},
   "outputs": [
    {
     "output_type": "stream",
     "name": "stdout",
     "text": [
      "[[ 5.71428571e-01]\n [-7.40148683e-17]\n [ 1.42857143e-01]]\n"
     ]
    }
   ],
   "source": [
    "A = np.array(\n",
    "    [[1, 1, 3],\n",
    "    [2, 1, 6],\n",
    "    [4, 1, 5]]\n",
    "    )\n",
    "x = np.array([[1, 2, 3]]).T\n",
    "def problem_1f (A, x):\n",
    "    return np.linalg.solve(A, x)\n",
    "\n",
    "\n",
    "print(problem_1f(A, x))"
   ]
  },
  {
   "cell_type": "code",
   "execution_count": 8,
   "metadata": {},
   "outputs": [
    {
     "output_type": "stream",
     "name": "stdout",
     "text": [
      "[-1.  1. -0.]\n"
     ]
    }
   ],
   "source": [
    "A = np.array(\n",
    "    [[2, 2, 3],\n",
    "    [3, 4, 6],\n",
    "    [4, 3, 5]]\n",
    "    )\n",
    "x = np.array([1, 2, 3])\n",
    "def problem_1g (A, x):\n",
    "    return (np.linalg.solve(A.T, x.T)).T\n",
    "\n",
    "print(problem_1g(A, x))"
   ]
  },
  {
   "cell_type": "code",
   "execution_count": 9,
   "metadata": {},
   "outputs": [
    {
     "output_type": "stream",
     "name": "stdout",
     "text": [
      "[[4. 2. 3.]\n [3. 6. 6.]\n [4. 3. 7.]]\n"
     ]
    }
   ],
   "source": [
    "A = np.array(\n",
    "    [[2, 2, 3],\n",
    "    [3, 4, 6],\n",
    "    [4, 3, 5]]\n",
    "    )\n",
    "alpha = 2\n",
    "def problem_1h (A, alpha):\n",
    "    return A + (alpha * np.eye(A.shape[1]))\n",
    "\n",
    "print(problem_1h(A, alpha))"
   ]
  },
  {
   "cell_type": "code",
   "execution_count": 10,
   "metadata": {},
   "outputs": [
    {
     "output_type": "stream",
     "name": "stdout",
     "text": [
      "9\n"
     ]
    }
   ],
   "source": [
    "A = np.array(\n",
    "    [[2, 2, 3],\n",
    "    [3, 4, 6],\n",
    "    [4, 3, 5]]\n",
    "    )\n",
    "i = 1\n",
    "def problem_1i (A, i):\n",
    "    return np.sum(A[i, 0::2])\n",
    "\n",
    "print(problem_1i(A, i))"
   ]
  },
  {
   "cell_type": "code",
   "execution_count": 11,
   "metadata": {},
   "outputs": [
    {
     "output_type": "stream",
     "name": "stdout",
     "text": [
      "[4.75]\n"
     ]
    }
   ],
   "source": [
    "A = np.array(\n",
    "    [[2, 2, 3],\n",
    "    [3, 4, 6],\n",
    "    [4, 3, 5]]\n",
    "    )\n",
    "c = 4\n",
    "d = 6 \n",
    "def problem_1j (A, c, d):\n",
    "    arr = A[((c <= A) & (A <= d))]\n",
    "    total = arr.shape\n",
    "    return np.sum(arr) / total\n",
    "\n",
    "print(problem_1j (A, c, d)) "
   ]
  },
  {
   "cell_type": "code",
   "execution_count": 12,
   "metadata": {},
   "outputs": [
    {
     "output_type": "stream",
     "name": "stdout",
     "text": [
      "[[0.36695707+0.j]\n [0.70001122+0.j]\n [0.61263921+0.j]]\n"
     ]
    }
   ],
   "source": [
    "A = np.array(\n",
    "    [[2, 2, 3],\n",
    "    [3, 4, 6],\n",
    "    [4, 3, 5]]\n",
    "    )\n",
    "\n",
    "k = 1\n",
    "def problem_1k (A, k):\n",
    "    eigen_value, eigen_vector = np.linalg.eig(A)\n",
    "    sort_eig_val_idx = np.argsort(eigen_value)[::-1][:k]\n",
    "    return eigen_vector[:,sort_eig_val_idx]\n",
    "\n",
    "print(problem_1k(A, k))"
   ]
  },
  {
   "cell_type": "code",
   "execution_count": 13,
   "metadata": {},
   "outputs": [
    {
     "output_type": "stream",
     "name": "stdout",
     "text": [
      "[[0.99770917]\n [4.31438243]\n [6.17317409]]\n"
     ]
    }
   ],
   "source": [
    "\n",
    "x = (np.array([[1, 3, 5]])).T\n",
    "k = 1\n",
    "m = 1 \n",
    "s = 2\n",
    "\n",
    "def problem_1l (x, k, m, s):    \n",
    "    x_row, x_col = x.shape\n",
    "    z = np.ones((x_row, x_col))\n",
    "    I = np.eye(x_row)\n",
    "    mu = x + (m * z)\n",
    "    sigma = np.sqrt(s * I)\n",
    "    return np.random.multivariate_normal(np.squeeze(mu), sigma, k).T\n",
    "\n",
    "print(problem_1l(x, k, m, s))"
   ]
  },
  {
   "cell_type": "code",
   "execution_count": 14,
   "metadata": {},
   "outputs": [
    {
     "output_type": "stream",
     "name": "stdout",
     "text": [
      "[[3 4 6 7 6]\n [2 2 3 4 5]\n [4 3 5 2 9]]\n"
     ]
    }
   ],
   "source": [
    "A = np.array(\n",
    "    [[2, 2, 3, 4, 5],\n",
    "    [3, 4, 6, 7, 6],\n",
    "    [4, 3, 5, 2, 9]]\n",
    "    )\n",
    "A_1 = np.array(\n",
    "    [[2, 2, 3],\n",
    "    [3, 4, 6],\n",
    "    [4, 3, 5]]\n",
    "    )\n",
    "\n",
    "def problem_1m (A):    \n",
    "    idx = np.random.permutation(A.shape[0])\n",
    "    return A[idx,:]\n",
    "\n",
    "print(problem_1m(A))"
   ]
  },
  {
   "cell_type": "code",
   "execution_count": 15,
   "metadata": {},
   "outputs": [
    {
     "output_type": "stream",
     "name": "stdout",
     "text": [
      "[[-1.34164079 -0.4472136   0.4472136   1.34164079]]\n"
     ]
    }
   ],
   "source": [
    "x = np.array([[1, 2, 3, 4]])\n",
    "def problem_1n (x):\n",
    "    return (x[:] - np.mean(x)) / np.std(x)   \n",
    "\n",
    "print(problem_1n(x))"
   ]
  },
  {
   "cell_type": "code",
   "execution_count": 16,
   "metadata": {},
   "outputs": [
    {
     "output_type": "stream",
     "name": "stdout",
     "text": [
      "x: \n [1 2 3 4]\nProblem with x \n [[1 1 1 1]\n [2 2 2 2]\n [3 3 3 3]\n [4 4 4 4]]\n"
     ]
    }
   ],
   "source": [
    "x = np.array([1, 2, 3, 4])\n",
    "print(\"x: \\n\", x)\n",
    "x_1 = np.arange(6).reshape(2, 3)\n",
    "# print(\"x_1: \\n\", x_1)\n",
    "x_2 = np.arange(6).reshape(3, 2)\n",
    "# print(\"x_2: \\n\", x_2)\n",
    "# x_3 = np.array([\n",
    "#     [1, 2, 3, 4],\n",
    "#     [2, 3, 4, 5]]\n",
    "#     )\n",
    "# print(\"x_3: \\n\", x_3)\n",
    "# k = [2, 3]\n",
    "k = 4\n",
    "def problem_1o (x, k):\n",
    "    x_2d = np.atleast_2d(x)\n",
    "    return (np.repeat(x_2d, k, 0)).T\n",
    "\n",
    "print(\"Problem with x \\n\", problem_1o(x, k))\n",
    "# print(\"Problem with x_1 \\n\", problem_1o(x_1, k))\n",
    "# print(\"Problem with x_2 \\n\", problem_1o(x_2, k))"
   ]
  },
  {
   "cell_type": "code",
   "execution_count": 17,
   "metadata": {},
   "outputs": [
    {
     "output_type": "stream",
     "name": "stdout",
     "text": [
      "------------------First test------------------\n",
      "\n",
      "\n",
      "this is X_a: \n",
      " [[1 2 3 4]]\n",
      "\n",
      "this is X_b: \n",
      " [[1 2 3 4]]\n",
      "\n",
      "this is x_a: \n",
      " [[[1]\n",
      "  [2]\n",
      "  [3]\n",
      "  [4]]]\n",
      "\n",
      "this is x_b: \n",
      " [[[1 2 3 4]]]\n",
      "\n",
      "this is A: \n",
      " [[[1 1 1 1]\n",
      "  [2 2 2 2]\n",
      "  [3 3 3 3]\n",
      "  [4 4 4 4]]]\n",
      "\n",
      "this is B: \n",
      " [[[1 2 3 4]\n",
      "  [1 2 3 4]\n",
      "  [1 2 3 4]\n",
      "  [1 2 3 4]]]\n",
      "\n",
      "This is output using X: \n",
      " [[0. 1. 2. 3.]\n",
      " [1. 0. 1. 2.]\n",
      " [2. 1. 0. 1.]\n",
      " [3. 2. 1. 0.]]\n",
      "\n",
      "------------------Second test------------------\n",
      "\n",
      "\n",
      "this is X_a: \n",
      " [[0 1 2 3]]\n",
      "\n",
      "this is X_b: \n",
      " [[0 1 2 3]]\n",
      "\n",
      "this is x_a: \n",
      " [[[0]\n",
      "  [1]\n",
      "  [2]\n",
      "  [3]]]\n",
      "\n",
      "this is x_b: \n",
      " [[[0 1 2 3]]]\n",
      "\n",
      "this is A: \n",
      " [[[0 0 0 0]\n",
      "  [1 1 1 1]\n",
      "  [2 2 2 2]\n",
      "  [3 3 3 3]]]\n",
      "\n",
      "this is B: \n",
      " [[[0 1 2 3]\n",
      "  [0 1 2 3]\n",
      "  [0 1 2 3]\n",
      "  [0 1 2 3]]]\n",
      "\n",
      "This is output using X_2: \n",
      " [[0. 1. 2. 3.]\n",
      " [1. 0. 1. 2.]\n",
      " [2. 1. 0. 1.]\n",
      " [3. 2. 1. 0.]]\n",
      "\n",
      "------------------Third test------------------\n",
      "\n",
      "\n",
      "this is X_a: \n",
      " [[0 1 2 3]\n",
      " [4 5 6 7]]\n",
      "\n",
      "this is X_b: \n",
      " [[0 1 2 3]\n",
      " [4 5 6 7]]\n",
      "\n",
      "this is x_a: \n",
      " [[[0]\n",
      "  [1]\n",
      "  [2]\n",
      "  [3]]\n",
      "\n",
      " [[4]\n",
      "  [5]\n",
      "  [6]\n",
      "  [7]]]\n",
      "\n",
      "this is x_b: \n",
      " [[[0 1 2 3]]\n",
      "\n",
      " [[4 5 6 7]]]\n",
      "\n",
      "this is A: \n",
      " [[[0 0 0 0]\n",
      "  [1 1 1 1]\n",
      "  [2 2 2 2]\n",
      "  [3 3 3 3]]\n",
      "\n",
      " [[4 4 4 4]\n",
      "  [5 5 5 5]\n",
      "  [6 6 6 6]\n",
      "  [7 7 7 7]]]\n",
      "\n",
      "this is B: \n",
      " [[[0 1 2 3]\n",
      "  [0 1 2 3]\n",
      "  [0 1 2 3]\n",
      "  [0 1 2 3]]\n",
      "\n",
      " [[4 5 6 7]\n",
      "  [4 5 6 7]\n",
      "  [4 5 6 7]\n",
      "  [4 5 6 7]]]\n",
      "\n",
      "This is output using X_3: \n",
      " [[0.         1.41421356 2.82842712 4.24264069]\n",
      " [1.41421356 0.         1.41421356 2.82842712]\n",
      " [2.82842712 1.41421356 0.         1.41421356]\n",
      " [4.24264069 2.82842712 1.41421356 0.        ]]\n",
      "\n",
      "------------------Fourth test------------------\n",
      "\n",
      "\n",
      "this is X_a: \n",
      " [[ 0  1  2  3]\n",
      " [ 4  5  6  7]\n",
      " [ 8  9 10 11]]\n",
      "\n",
      "this is X_b: \n",
      " [[ 0  1  2  3]\n",
      " [ 4  5  6  7]\n",
      " [ 8  9 10 11]]\n",
      "\n",
      "this is x_a: \n",
      " [[[ 0]\n",
      "  [ 1]\n",
      "  [ 2]\n",
      "  [ 3]]\n",
      "\n",
      " [[ 4]\n",
      "  [ 5]\n",
      "  [ 6]\n",
      "  [ 7]]\n",
      "\n",
      " [[ 8]\n",
      "  [ 9]\n",
      "  [10]\n",
      "  [11]]]\n",
      "\n",
      "this is x_b: \n",
      " [[[ 0  1  2  3]]\n",
      "\n",
      " [[ 4  5  6  7]]\n",
      "\n",
      " [[ 8  9 10 11]]]\n",
      "\n",
      "this is A: \n",
      " [[[ 0  0  0  0]\n",
      "  [ 1  1  1  1]\n",
      "  [ 2  2  2  2]\n",
      "  [ 3  3  3  3]]\n",
      "\n",
      " [[ 4  4  4  4]\n",
      "  [ 5  5  5  5]\n",
      "  [ 6  6  6  6]\n",
      "  [ 7  7  7  7]]\n",
      "\n",
      " [[ 8  8  8  8]\n",
      "  [ 9  9  9  9]\n",
      "  [10 10 10 10]\n",
      "  [11 11 11 11]]]\n",
      "\n",
      "this is B: \n",
      " [[[ 0  1  2  3]\n",
      "  [ 0  1  2  3]\n",
      "  [ 0  1  2  3]\n",
      "  [ 0  1  2  3]]\n",
      "\n",
      " [[ 4  5  6  7]\n",
      "  [ 4  5  6  7]\n",
      "  [ 4  5  6  7]\n",
      "  [ 4  5  6  7]]\n",
      "\n",
      " [[ 8  9 10 11]\n",
      "  [ 8  9 10 11]\n",
      "  [ 8  9 10 11]\n",
      "  [ 8  9 10 11]]]\n",
      "\n",
      "This is output using X_4: \n",
      " [[0.         1.73205081 3.46410162 5.19615242]\n",
      " [1.73205081 0.         1.73205081 3.46410162]\n",
      " [3.46410162 1.73205081 0.         1.73205081]\n",
      " [5.19615242 3.46410162 1.73205081 0.        ]]\n"
     ]
    }
   ],
   "source": [
    "X = np.array([1, 2, 3, 4])\n",
    "X_2 = np.arange(4).reshape(1, 4)\n",
    "X_3 = np.arange(8).reshape(2, 4)\n",
    "X_4 = np.arange(12).reshape(3, 4)\n",
    "\n",
    "def problem_1p (X): \n",
    "    X_a = (np.atleast_2d(X))\n",
    "    print(\"\\nthis is X_a: \\n\", X_a)\n",
    "\n",
    "    X_b = (np.atleast_2d(X))\n",
    "    print(\"\\nthis is X_b: \\n\", X_b)\n",
    "\n",
    "    x_a = np.atleast_3d(X_a)\n",
    "    print(\"\\nthis is x_a: \\n\", x_a)\n",
    "\n",
    "    x_b = np.swapaxes(np.atleast_3d(X_b), 1, 2)\n",
    "    print(\"\\nthis is x_b: \\n\", x_b)\n",
    "\n",
    "    # tile_a_dim = [3rd dim, 0th index, 1st index]\n",
    "    # tile_a_dim = [1, 1, 4]\n",
    "\n",
    "    # tile_b_dim = [3rd dim, 1st index, 0th index] \n",
    "    # tile_b_dim = [1, 4, 1]\n",
    "    tile_a_dim = [1, 1, X_b.shape[1]]\n",
    "    tile_b_dim = [1, X_a.shape[1], 1]\n",
    "\n",
    "    A = np.tile(x_a, tile_a_dim)\n",
    "    print(\"\\nthis is A: \\n\", A)\n",
    "\n",
    "    B = np.tile(x_b, tile_b_dim)\n",
    "    print(\"\\nthis is B: \\n\", B)\n",
    "\n",
    "    return np.sqrt(np.sum(np.square(A - B), 0))\n",
    "\n",
    "print(\"------------------First test------------------\\n\")\n",
    "print(\"\\nThis is output using X: \\n\", problem_1p(X))\n",
    "\n",
    "print(\"\\n------------------Second test------------------\\n\")\n",
    "print(\"\\nThis is output using X_2: \\n\", problem_1p(X_2))\n",
    "\n",
    "print(\"\\n------------------Third test------------------\\n\")\n",
    "print(\"\\nThis is output using X_3: \\n\", problem_1p(X_3))\n",
    "\n",
    "print(\"\\n------------------Fourth test------------------\\n\")\n",
    "print(\"\\nThis is output using X_4: \\n\", problem_1p(X_4))"
   ]
  },
  {
   "cell_type": "code",
   "execution_count": 18,
   "metadata": {},
   "outputs": [
    {
     "output_type": "error",
     "ename": "NameError",
     "evalue": "name 'X_tr' is not defined",
     "traceback": [
      "\u001b[1;31m---------------------------------------------------------------------------\u001b[0m",
      "\u001b[1;31mNameError\u001b[0m                                 Traceback (most recent call last)",
      "\u001b[1;32m<ipython-input-18-c5684f62d557>\u001b[0m in \u001b[0;36m<module>\u001b[1;34m\u001b[0m\n\u001b[0;32m      2\u001b[0m     \u001b[1;33m...\u001b[0m\u001b[1;33m\u001b[0m\u001b[1;33m\u001b[0m\u001b[0m\n\u001b[0;32m      3\u001b[0m \u001b[1;33m\u001b[0m\u001b[0m\n\u001b[1;32m----> 4\u001b[1;33m \u001b[0mprint\u001b[0m\u001b[1;33m(\u001b[0m\u001b[0mlinear_regression\u001b[0m\u001b[1;33m(\u001b[0m\u001b[0mX_tr\u001b[0m\u001b[1;33m,\u001b[0m \u001b[0my_tr\u001b[0m\u001b[1;33m)\u001b[0m\u001b[1;33m)\u001b[0m\u001b[1;33m\u001b[0m\u001b[1;33m\u001b[0m\u001b[0m\n\u001b[0m",
      "\u001b[1;31mNameError\u001b[0m: name 'X_tr' is not defined"
     ]
    }
   ],
   "source": [
    "def linear_regression (X_tr, y_tr):    \n",
    "    ...\n",
    "\n",
    "print(linear_regression(X_tr, y_tr))"
   ]
  },
  {
   "cell_type": "code",
   "execution_count": null,
   "metadata": {},
   "outputs": [],
   "source": [
    "def train_age_regressor ():    \n",
    "    # Load data    \n",
    "    X_tr = np.reshape(np.load(\"age_regression_Xtr.npy\"), (-1, 48*48))    \n",
    "    ytr = np.load(\"age_regression_ytr.npy\")    \n",
    "    X_te = np.reshape(np.load(\"age_regression_Xte.npy\"), (-1, 48*48))    \n",
    "    yte = np.load(\"age_regression_yte.npy\")\n",
    "    w = linear_regression(X_tr, ytr)    \n",
    "    # Report fMSE cost on the training and testing data (separately)    \n",
    "    # ..."
   ]
  }
 ]
}