{
 "metadata": {
  "language_info": {
   "codemirror_mode": {
    "name": "ipython",
    "version": 3
   },
   "file_extension": ".py",
   "mimetype": "text/x-python",
   "name": "python",
   "nbconvert_exporter": "python",
   "pygments_lexer": "ipython3",
   "version": "3.8.7-final"
  },
  "orig_nbformat": 2,
  "kernelspec": {
   "name": "python3",
   "display_name": "Python 3.8.7 64-bit",
   "metadata": {
    "interpreter": {
     "hash": "552348fb7d79730493b979f7356e711fcc27c318fa52baca99fd131d34174f89"
    }
   }
  }
 },
 "nbformat": 4,
 "nbformat_minor": 2,
 "cells": [
  {
   "cell_type": "code",
   "execution_count": 1,
   "metadata": {},
   "outputs": [],
   "source": [
    "import numpy as np"
   ]
  },
  {
   "cell_type": "code",
   "execution_count": null,
   "metadata": {},
   "outputs": [],
   "source": [
    "def linear_regression (X_tr, y_tr, b):\n",
    "    X_t = X_tr.T\n",
    "    X_y = np.matmul(X_tr.T, y_tr)\n",
    "    X_XT = np.matmul(X_t, X_tr)\n",
    "    x_w = np.linalg.solve(X_XT, X_y)\n",
    "    y_hat = x_w + b\n",
    "    return y_hat "
   ]
  },
  {
   "cell_type": "code",
   "execution_count": null,
   "metadata": {},
   "outputs": [],
   "source": [
    "def regularized_mean_square_error(w, y_hat, y, alpha):\n",
    "    n = len(y)\n",
    "    one_over_two_n = 1/(2 * n)\n",
    "    reg = (alpha * one_over_two_n) * np.matmul(w.T, w) \n",
    "    dist_diff = np.square(y_hat-y)\n",
    "    err = np.mean(dist_diff)\n",
    "    reg_err = err + reg\n",
    "    return reg_err"
   ]
  },
  {
   "cell_type": "code",
   "execution_count": null,
   "metadata": {},
   "outputs": [],
   "source": [
    "def mean_square_error(y_hat, y):\n",
    "    dist_diff = np.square(y_hat-y)\n",
    "    err = np.mean(dist_diff)\n",
    "    return err"
   ]
  },
  {
   "cell_type": "code",
   "execution_count": null,
   "metadata": {},
   "outputs": [],
   "source": [
    "def train_age_regressor(mse_bool: bool):\n",
    "    # Load data\n",
    "    X_tr = np.reshape(np.load(\"age_regression_Xtr.npy\"), (-1, 48*48))\n",
    "    ytr = np.load(\"age_regression_ytr.npy\")\n",
    "    X_te = np.reshape(np.load(\"age_regression_Xte.npy\"), (-1, 48*48))\n",
    "    yte = np.load(\"age_regression_yte.npy\")\n",
    "\n",
    "    w = linear_regression(X_tr, ytr)\n",
    "    y_hat_tr = np.matmul(X_tr, w)\n",
    "    y_hat_te = np.matmul(X_te, w)\n",
    "\n",
    "    if mse_bool == true:\n",
    "        train = mean_square_error(y_hat_tr, ytr)\n",
    "        test = mean_square_error(y_hat_te, yte)reg_mean_square_error\n",
    "    else:\n",
    "        train = regularized_mean_square_error(y_hat_tr, ytr)\n",
    "        test = regularized_mean_square_error(y_hat_te, yte)\n",
    "\n",
    "\n",
    "    return train, test\n",
    "\n",
    "\n",
    "    # Report fMSE cost on the training and testing data (separately)\n",
    "    # ..."
   ]
  },
  {
   "cell_type": "code",
   "execution_count": null,
   "metadata": {},
   "outputs": [],
   "source": [
    "print(train_age_regressor())"
   ]
  }
 ]
}