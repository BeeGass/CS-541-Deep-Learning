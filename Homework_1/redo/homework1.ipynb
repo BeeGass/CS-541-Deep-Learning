{
 "metadata": {
  "language_info": {
   "codemirror_mode": {
    "name": "ipython",
    "version": 3
   },
   "file_extension": ".py",
   "mimetype": "text/x-python",
   "name": "python",
   "nbconvert_exporter": "python",
   "pygments_lexer": "ipython3",
   "version": "3.8.6"
  },
  "orig_nbformat": 2,
  "kernelspec": {
   "name": "python3",
   "display_name": "Python 3.8.6 64-bit ('myPython': virtualenvwrapper)"
  },
  "interpreter": {
   "hash": "84049df9d252f94b499f04453d7bdf722827497bdc8868f15691bf5480d3fb8d"
  }
 },
 "nbformat": 4,
 "nbformat_minor": 2,
 "cells": [
  {
   "cell_type": "code",
   "execution_count": 2,
   "metadata": {},
   "outputs": [],
   "source": [
    "import numpy as np\n"
   ]
  },
  {
   "cell_type": "code",
   "execution_count": 3,
   "metadata": {},
   "outputs": [
    {
     "output_type": "stream",
     "name": "stdout",
     "text": [
      "[ 3  6  9 12]\n"
     ]
    }
   ],
   "source": [
    "A = np.array([1, 2, 3, 4])\n",
    "B = np.array([2, 4, 6, 8])\n",
    "def problem_1a (A, B):\n",
    "    return A + B\n",
    "\n",
    "print(problem_1a(A, B))"
   ]
  },
  {
   "cell_type": "code",
   "execution_count": 4,
   "metadata": {},
   "outputs": [
    {
     "output_type": "stream",
     "name": "stdout",
     "text": [
      "[[26 37 48]\n [52 74 96]\n [38 55 72]]\n"
     ]
    }
   ],
   "source": [
    "A = np.array(\n",
    "    [[1, 2, 3],\n",
    "    [2, 4, 6],\n",
    "    [1, 3, 5]]\n",
    "    )\n",
    "B = np.array(\n",
    "    [[4, 5, 6],\n",
    "    [4, 6, 8],\n",
    "    [5, 7, 9]]\n",
    "    )\n",
    "C = np.array(\n",
    "    [[1, 1, 1],\n",
    "    [2, 2, 2],\n",
    "    [3, 3, 3]]\n",
    "    )\n",
    "def problem_1b (A, B, C):\n",
    "    #matrix multiplication\n",
    "    return ((A@B) - C)\n",
    "\n",
    "print(problem_1b(A, B, C))"
   ]
  },
  {
   "cell_type": "code",
   "execution_count": 6,
   "metadata": {},
   "outputs": [
    {
     "output_type": "stream",
     "name": "stdout",
     "text": [
      "[[ 5 12 21]\n [ 9 26 51]\n [ 6 23 48]]\n"
     ]
    }
   ],
   "source": [
    "A = np.array(\n",
    "    [[1, 2, 3],\n",
    "    [2, 4, 6],\n",
    "    [1, 3, 5]]\n",
    "    )\n",
    "B = np.array(\n",
    "    [[4, 5, 6],\n",
    "    [4, 6, 8],\n",
    "    [5, 7, 9]]\n",
    "    )\n",
    "C = np.array(\n",
    "    [[1, 1, 1],\n",
    "    [2, 2, 2],\n",
    "    [3, 3, 3]]\n",
    "    )\n",
    "def problem_1c (A, B, C):\n",
    "    #element-wise multiplication\n",
    "    return ((A * B) + C.T)\n",
    "\n",
    "print(problem_1c(A, B, C))"
   ]
  },
  {
   "cell_type": "code",
   "execution_count": 7,
   "metadata": {},
   "outputs": [
    {
     "output_type": "stream",
     "name": "stdout",
     "text": [
      "60\n"
     ]
    }
   ],
   "source": [
    "x = np.array([1, 2, 3, 4])\n",
    "y = np.array([2, 4, 6, 8])\n",
    "def problem_1d (x, y):\n",
    "    #inner product\n",
    "    return np.inner(x, y)\n",
    "\n",
    "print(problem_1d(x, y))"
   ]
  },
  {
   "cell_type": "code",
   "execution_count": 8,
   "metadata": {},
   "outputs": [
    {
     "output_type": "stream",
     "name": "stdout",
     "text": [
      "[[0. 0. 0.]\n [0. 0. 0.]\n [0. 0. 0.]]\n"
     ]
    }
   ],
   "source": [
    "A = np.array(\n",
    "    [[1, 2, 3],\n",
    "    [2, 4, 6],\n",
    "    [1, 3, 5]]\n",
    "    )\n",
    "def problem_1e (A):\n",
    "    return np.zeros(np.shape(A))\n",
    "\n",
    "print(problem_1e(A))"
   ]
  },
  {
   "cell_type": "code",
   "execution_count": 16,
   "metadata": {},
   "outputs": [
    {
     "output_type": "stream",
     "name": "stdout",
     "text": [
      "[ 5.71428571e-01 -7.40148683e-17  1.42857143e-01]\n"
     ]
    }
   ],
   "source": [
    "A = np.array(\n",
    "    [[1, 1, 3],\n",
    "    [2, 1, 6],\n",
    "    [4, 1, 5]]\n",
    "    )\n",
    "x = np.array([1, 2, 3])\n",
    "def problem_1f (A, x):\n",
    "    return np.linalg.solve(A, x)\n",
    "\n",
    "\n",
    "print(problem_1f(A, x))"
   ]
  },
  {
   "cell_type": "code",
   "execution_count": 17,
   "metadata": {},
   "outputs": [
    {
     "output_type": "stream",
     "name": "stdout",
     "text": [
      "[-1.  1. -0.]\n"
     ]
    }
   ],
   "source": [
    "A = np.array(\n",
    "    [[2, 2, 3],\n",
    "    [3, 4, 6],\n",
    "    [4, 3, 5]]\n",
    "    )\n",
    "x = np.array([1, 2, 3])\n",
    "def problem_1g (A, x):\n",
    "    return (np.linalg.solve(A.T, x.T)).T\n",
    "\n",
    "print(problem_1g(A, x))"
   ]
  },
  {
   "cell_type": "code",
   "execution_count": 21,
   "metadata": {},
   "outputs": [
    {
     "output_type": "stream",
     "name": "stdout",
     "text": [
      "[[4. 2. 3.]\n [3. 6. 6.]\n [4. 3. 7.]]\n"
     ]
    }
   ],
   "source": [
    "A = np.array(\n",
    "    [[2, 2, 3],\n",
    "    [3, 4, 6],\n",
    "    [4, 3, 5]]\n",
    "    )\n",
    "alpha = 2\n",
    "def problem_1h (A, alpha):\n",
    "    return A + (alpha * np.eye(A.shape[1]))\n",
    "\n",
    "print(problem_1h(A, alpha))"
   ]
  },
  {
   "cell_type": "code",
   "execution_count": 24,
   "metadata": {},
   "outputs": [
    {
     "output_type": "stream",
     "name": "stdout",
     "text": [
      "9\n"
     ]
    }
   ],
   "source": [
    "A = np.array(\n",
    "    [[2, 2, 3],\n",
    "    [3, 4, 6],\n",
    "    [4, 3, 5]]\n",
    "    )\n",
    "i = 1\n",
    "def problem_1i (A, i):\n",
    "    return np.sum(A[i, 0::2])\n",
    "\n",
    "print(problem_1i(A, i))"
   ]
  },
  {
   "cell_type": "code",
   "execution_count": 28,
   "metadata": {},
   "outputs": [
    {
     "output_type": "stream",
     "name": "stdout",
     "text": [
      "[4.75]\n"
     ]
    }
   ],
   "source": [
    "A = np.array(\n",
    "    [[2, 2, 3],\n",
    "    [3, 4, 6],\n",
    "    [4, 3, 5]]\n",
    "    )\n",
    "c = 4\n",
    "d = 6 \n",
    "def problem_1j (A, c, d):\n",
    "    arr = A[((c <= A) & (A <= d))]\n",
    "    total = arr.shape\n",
    "    return np.sum(arr) / total\n",
    "\n",
    "print(problem_1j (A, c, d)) "
   ]
  },
  {
   "cell_type": "code",
   "execution_count": 20,
   "metadata": {},
   "outputs": [
    {
     "output_type": "stream",
     "name": "stdout",
     "text": [
      "[11.48565082  3.37543563  6.13891355]\n[2 0]\n[[ 0.12042721  0.27500502]\n [-0.3882481   0.47337791]\n [ 0.91365239  0.83683069]]\n"
     ]
    }
   ],
   "source": [
    "\n",
    "def problem_1k (A, k):    \n",
    "    return ...\n",
    "\n",
    "print(problem_1k(A, k))"
   ]
  },
  {
   "cell_type": "code",
   "execution_count": null,
   "metadata": {},
   "outputs": [],
   "source": [
    "def problem_1l (x, k, m, s):    \n",
    "    return ...\n",
    "\n",
    "print(problem_1l(x, k, m, s))"
   ]
  },
  {
   "cell_type": "code",
   "execution_count": null,
   "metadata": {},
   "outputs": [],
   "source": [
    "def problem_1m (A):    \n",
    "    return ...\n",
    "\n",
    "print(problem_1m(A))"
   ]
  },
  {
   "cell_type": "code",
   "execution_count": null,
   "metadata": {},
   "outputs": [],
   "source": [
    "def problem_1n (x):    \n",
    "    return ...\n",
    "\n",
    "print(problem_1n(x))"
   ]
  },
  {
   "cell_type": "code",
   "execution_count": null,
   "metadata": {},
   "outputs": [],
   "source": [
    "def problem_1o (x, k):    \n",
    "    return ...\n",
    "\n",
    "print(problem_1o(x, k))"
   ]
  },
  {
   "cell_type": "code",
   "execution_count": 27,
   "metadata": {},
   "outputs": [
    {
     "output_type": "stream",
     "name": "stdout",
     "text": [
      "[[0.         2.44948974 5.47722558]\n [2.44948974 0.         4.        ]\n [5.47722558 4.         0.        ]]\n"
     ]
    }
   ],
   "source": [
    "def problem_1p (X):    \n",
    "    return ...\n",
    "\n",
    "print(problem_1p(X))"
   ]
  },
  {
   "cell_type": "code",
   "execution_count": null,
   "metadata": {},
   "outputs": [],
   "source": [
    "def linear_regression (X_tr, y_tr):    \n",
    "    ...\n",
    "\n",
    "print(linear_regression(X_tr, y_tr))"
   ]
  },
  {
   "cell_type": "code",
   "execution_count": null,
   "metadata": {},
   "outputs": [],
   "source": [
    "def train_age_regressor ():    \n",
    "    # Load data    \n",
    "    X_tr = np.reshape(np.load(\"age_regression_Xtr.npy\"), (-1, 48*48))    \n",
    "    ytr = np.load(\"age_regression_ytr.npy\")    \n",
    "    X_te = np.reshape(np.load(\"age_regression_Xte.npy\"), (-1, 48*48))    \n",
    "    yte = np.load(\"age_regression_yte.npy\")\n",
    "    w = linear_regression(X_tr, ytr)    \n",
    "    # Report fMSE cost on the training and testing data (separately)    \n",
    "    # ..."
   ]
  }
 ]
}