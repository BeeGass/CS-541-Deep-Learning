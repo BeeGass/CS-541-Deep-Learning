{
 "metadata": {
  "language_info": {
   "codemirror_mode": {
    "name": "ipython",
    "version": 3
   },
   "file_extension": ".py",
   "mimetype": "text/x-python",
   "name": "python",
   "nbconvert_exporter": "python",
   "pygments_lexer": "ipython3",
   "version": "3.9.1-final"
  },
  "orig_nbformat": 2,
  "kernelspec": {
   "name": "python3",
   "display_name": "Python 3",
   "language": "python"
  }
 },
 "nbformat": 4,
 "nbformat_minor": 2,
 "cells": [
  {
   "cell_type": "code",
   "execution_count": 1,
   "metadata": {},
   "outputs": [],
   "source": [
    "import numpy as np"
   ]
  },
  {
   "cell_type": "code",
   "execution_count": 2,
   "metadata": {},
   "outputs": [],
   "source": [
    "def linear_regression (x, y):\n",
    "    X_t = x.T\n",
    "    X_y = X_t.dot(y) # x is a column vector so it needs to be transformed\n",
    "    X_XT = X_t.dot(x)\n",
    "    w = np.linalg.solve(X_XT, X_y)\n",
    "    return w"
   ]
  },
  {
   "cell_type": "code",
   "execution_count": 3,
   "metadata": {},
   "outputs": [],
   "source": [
    "def mean_square_error(y, x, w, b):\n",
    "    n = len(y)\n",
    "    mean_div_two = 1/(2 * n)\n",
    "    y_hat = x.dot(w) + b\n",
    "    euclid_dist = np.sum(np.square(y_hat-y))\n",
    "    err = mean_div_two * euclid_dist\n",
    "    return err"
   ]
  },
  {
   "cell_type": "code",
   "execution_count": 17,
   "metadata": {},
   "outputs": [],
   "source": [
    "def regularized_mean_square_error(y, x, w, b, alpha):\n",
    "    n = len(y)\n",
    "    mean_div_two = 1/(2 * n)\n",
    "    y_hat = x.dot(w) + b\n",
    "    euclid_dist = np.sum(np.square(y_hat-y))\n",
    "    err = mean_div_two * euclid_dist\n",
    "    wt_w = (w).dot(w.T)\n",
    "    reg = wt_w * (mean_div_two * alpha) \n",
    "    return err + reg"
   ]
  },
  {
   "cell_type": "code",
   "execution_count": null,
   "metadata": {},
   "outputs": [],
   "source": [
    "#train, test or validation split function\n",
    "def ttv_split():\n",
    "    "
   ]
  },
  {
   "cell_type": "code",
   "execution_count": 15,
   "metadata": {},
   "outputs": [],
   "source": [
    "def train_age_regressor(mse_bool: bool = True, b_val: float = 0.0, alpha: float = 0.0):\n",
    "    # Load data\n",
    "    X_tr = np.reshape(np.load(\"age_regression_Xtr.npy\"), (-1, 48*48))\n",
    "    ytr = np.load(\"age_regression_ytr.npy\")\n",
    "    X_te = np.reshape(np.load(\"age_regression_Xte.npy\"), (-1, 48*48))\n",
    "    yte = np.load(\"age_regression_yte.npy\")\n",
    "\n",
    "    w = linear_regression(X_tr, ytr)\n",
    "\n",
    "    if mse_bool == True:\n",
    "        train = mean_square_error(ytr, X_tr, w, b_val)\n",
    "        test = mean_square_error(yte, X_te, w, b_val)\n",
    "    else:\n",
    "        train = regularized_mean_square_error(ytr, X_tr, w, b_val, alpha)\n",
    "        test = regularized_mean_square_error(yte, X_te, w, b_val, alpha)\n",
    "\n",
    "\n",
    "    return train, test\n",
    "\n",
    "\n",
    "    # Report fMSE cost on the training and testing data (separately)\n",
    "    # ..."
   ]
  },
  {
   "cell_type": "code",
   "execution_count": 18,
   "metadata": {},
   "outputs": [
    {
     "output_type": "stream",
     "name": "stdout",
     "text": [
      "(94.98633435331956, 358.60415394117115)\n"
     ]
    }
   ],
   "source": [
    "print(train_age_regressor(mse_bool=False, b_val=2, alpha=1.0))"
   ]
  },
  {
   "cell_type": "code",
   "execution_count": null,
   "metadata": {},
   "outputs": [],
   "source": []
  }
 ]
}